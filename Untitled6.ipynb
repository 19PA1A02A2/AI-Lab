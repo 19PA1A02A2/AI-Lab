{
  "nbformat": 4,
  "nbformat_minor": 0,
  "metadata": {
    "colab": {
      "name": "Untitled6.ipynb",
      "provenance": [],
      "authorship_tag": "ABX9TyNTT0sVEPsguDAa7rJMv1v/",
      "include_colab_link": true
    },
    "kernelspec": {
      "name": "python3",
      "display_name": "Python 3"
    }
  },
  "cells": [
    {
      "cell_type": "markdown",
      "metadata": {
        "id": "view-in-github",
        "colab_type": "text"
      },
      "source": [
        "<a href=\"https://colab.research.google.com/github/19PA1A02A2/AI-Lab/blob/master/Untitled6.ipynb\" target=\"_parent\"><img src=\"https://colab.research.google.com/assets/colab-badge.svg\" alt=\"Open In Colab\"/></a>"
      ]
    },
    {
      "cell_type": "markdown",
      "metadata": {
        "id": "xvRc95G2uBpS",
        "colab_type": "text"
      },
      "source": [
        "EXPERIMENT-1 1.NUMPY i.Different ways to create Numpy arrays"
      ]
    },
    {
      "cell_type": "code",
      "metadata": {
        "id": "VYpjJS9huGOs",
        "colab_type": "code",
        "colab": {
          "base_uri": "https://localhost:8080/",
          "height": 34
        },
        "outputId": "c70ac1d3-db43-4eea-dd2c-884343f2ec93"
      },
      "source": [
        "import numpy as np\n",
        "a = np.array([8,9,10])\n",
        "print (a)"
      ],
      "execution_count": 1,
      "outputs": [
        {
          "output_type": "stream",
          "text": [
            "[ 8  9 10]\n"
          ],
          "name": "stdout"
        }
      ]
    },
    {
      "cell_type": "code",
      "metadata": {
        "id": "Zk9Hn7-5ua7m",
        "colab_type": "code",
        "colab": {
          "base_uri": "https://localhost:8080/",
          "height": 50
        },
        "outputId": "d1a02203-bb65-4cdf-a5b3-b10f27a51364"
      },
      "source": [
        "a = np.array([[3,4],[5,6]])\n",
        "print (a)\n"
      ],
      "execution_count": 2,
      "outputs": [
        {
          "output_type": "stream",
          "text": [
            "[[3 4]\n",
            " [5 6]]\n"
          ],
          "name": "stdout"
        }
      ]
    },
    {
      "cell_type": "markdown",
      "metadata": {
        "id": "doOjm2rdupha",
        "colab_type": "text"
      },
      "source": [
        "ii.Add,remove,modify elements in an array"
      ]
    },
    {
      "cell_type": "code",
      "metadata": {
        "id": "VoDET3vvurpo",
        "colab_type": "code",
        "colab": {
          "base_uri": "https://localhost:8080/",
          "height": 34
        },
        "outputId": "4e614942-4cde-42d6-d197-134eadc5e4aa"
      },
      "source": [
        "newArray = np.append(a,[20,30,40])\n",
        "print(newArray)"
      ],
      "execution_count": 3,
      "outputs": [
        {
          "output_type": "stream",
          "text": [
            "[ 3  4  5  6 20 30 40]\n"
          ],
          "name": "stdout"
        }
      ]
    },
    {
      "cell_type": "code",
      "metadata": {
        "id": "EBvSqWgOvPCN",
        "colab_type": "code",
        "colab": {
          "base_uri": "https://localhost:8080/",
          "height": 34
        },
        "outputId": "5b7e5c53-cd50-47a0-8af1-625847e0a283"
      },
      "source": [
        "import numpy as np\n",
        "l=np.array([1,2,3,4,5])\n",
        "l=np.delete(l,4)\n",
        "print(l)\n"
      ],
      "execution_count": 4,
      "outputs": [
        {
          "output_type": "stream",
          "text": [
            "[1 2 3 4]\n"
          ],
          "name": "stdout"
        }
      ]
    },
    {
      "cell_type": "code",
      "metadata": {
        "id": "jNQJZ14CviAJ",
        "colab_type": "code",
        "colab": {
          "base_uri": "https://localhost:8080/",
          "height": 34
        },
        "outputId": "27bbc41e-c8c6-47c0-9b70-eea125f0ba3d"
      },
      "source": [
        "b=np.array([2,3,4,1,8,5])\n",
        "b[b<2]=-1\n",
        "print(b)\n"
      ],
      "execution_count": 5,
      "outputs": [
        {
          "output_type": "stream",
          "text": [
            "[ 2  3  4 -1  8  5]\n"
          ],
          "name": "stdout"
        }
      ]
    },
    {
      "cell_type": "markdown",
      "metadata": {
        "id": "2xR37C9BvshL",
        "colab_type": "text"
      },
      "source": [
        "iii.Arthimetic operations on Numpy array"
      ]
    },
    {
      "cell_type": "code",
      "metadata": {
        "id": "4j-I8XI9vvEG",
        "colab_type": "code",
        "colab": {
          "base_uri": "https://localhost:8080/",
          "height": 1000
        },
        "outputId": "449f7733-8a96-4ca8-8bf9-e591d30ce73f"
      },
      "source": [
        "import numpy as np\n",
        "v=np.random.random((8,8))\n",
        "n=np.random.random((8,8))\n",
        "sum=np.add(v,n)\n",
        "diff=np.subtract(v,n)\n",
        "prod=np.multiply(v,n)\n",
        "quo=np.divide(v,n)\n",
        "mod=np.mod(v,n)\n",
        "pow=np.power(v,n)\n",
        "print(sum)\n",
        "print(diff)\n",
        "print(prod)\n",
        "print(quo)\n",
        "print(mod)\n",
        "print(pow)"
      ],
      "execution_count": 6,
      "outputs": [
        {
          "output_type": "stream",
          "text": [
            "[[0.90306291 1.45732095 0.95159405 0.39903294 0.76346481 0.38156473\n",
            "  0.89546829 1.02762893]\n",
            " [1.38901596 0.99216804 1.10372284 0.7510061  0.60102378 0.91343672\n",
            "  0.58843267 0.63835808]\n",
            " [0.94545439 0.82129719 1.25841165 0.77772351 1.54245071 1.09194905\n",
            "  0.50904973 1.38310876]\n",
            " [0.55867882 0.82040766 1.49189403 0.62490249 0.56960606 1.09091075\n",
            "  0.73686616 0.88506211]\n",
            " [1.08283477 0.71427051 1.51790352 1.37918693 1.38705744 1.72829202\n",
            "  0.58158058 0.47514723]\n",
            " [1.0344435  1.27302359 1.27332625 0.59823894 0.18940168 0.92363304\n",
            "  0.94380154 1.66615435]\n",
            " [1.73771687 1.86720575 0.99044855 0.87288769 0.47678894 1.26921144\n",
            "  0.56914427 1.16963088]\n",
            " [1.00539655 1.05346102 0.76788347 1.0565921  0.92659952 1.41301586\n",
            "  0.67141615 1.54399661]]\n",
            "[[-0.2433321   0.21201011 -0.78785551 -0.14092521  0.19687885  0.2082419\n",
            "   0.30323624 -0.68961443]\n",
            " [ 0.51226992  0.08245037  0.70273957 -0.08340748  0.54608367 -0.0291574\n",
            "   0.14469697 -0.23868071]\n",
            " [ 0.03437487 -0.2954634   0.57952827  0.72021162  0.02557805  0.68345915\n",
            "   0.33393173  0.50283978]\n",
            " [-0.44431514 -0.58208201  0.42713952  0.53082811  0.21903115  0.85919362\n",
            "  -0.4749414   0.69533723]\n",
            " [ 0.3764844   0.40651923 -0.04531123  0.32002851  0.3070327   0.15878589\n",
            "  -0.51361282 -0.09375539]\n",
            " [ 0.43511806 -0.46339844 -0.69375638 -0.49569637  0.14626277  0.47008617\n",
            "  -0.85771335 -0.26686668]\n",
            " [ 0.21504689 -0.11293467 -0.45862365 -0.54053958 -0.07993119  0.3060508\n",
            "   0.56109475 -0.63662414]\n",
            " [-0.45590281 -0.22891325  0.72653139  0.6782212  -0.38026191  0.39888883\n",
            "   0.08396958 -0.12664782]]\n",
            "[[0.18907803 0.51970902 0.07120373 0.03484184 0.13602931 0.02555674\n",
            "  0.17747781 0.14511329]\n",
            " [0.41673621 0.24439984 0.1810903  0.13926334 0.01575555 0.20837912\n",
            "  0.08132895 0.08763314]\n",
            " [0.2231756  0.14680761 0.31193672 0.02153727 0.59462499 0.18130908\n",
            "  0.03690531 0.4150355 ]\n",
            " [0.02867652 0.08356232 0.51082491 0.02718116 0.06911911 0.11296815\n",
            "  0.0793506  0.07496027]\n",
            " [0.25769766 0.08623112 0.5754945  0.44993459 0.45741482 0.74044509\n",
            "  0.01860946 0.05424371]\n",
            " [0.2201864  0.35146273 0.28501546 0.02804374 0.00362005 0.15802925\n",
            "  0.03877229 0.67621313]\n",
            " [0.74335369 0.86842577 0.19266317 0.11743747 0.05523467 0.37930765\n",
            "  0.00227447 0.24068653]\n",
            " [0.20074371 0.26434471 0.01544929 0.16410072 0.17849689 0.45937538\n",
            "  0.11093719 0.59197147]]\n",
            "[[5.75482980e-01 1.34049348e+00 9.41323868e-02 4.78014326e-01\n",
            "  1.69496550e+00 3.40293663e+00 2.02404534e+00 1.96835524e-01]\n",
            " [2.16857083e+00 1.18126584e+00 4.50508181e+00 8.00081208e-01\n",
            "  2.08792339e+01 9.38133708e-01 1.65217638e+00 4.55712308e-01]\n",
            " [1.07545965e+00 4.70856322e-01 2.70729844e+00 2.60456609e+01\n",
            "  1.03372472e+00 4.34627201e+00 4.81379122e+00 2.14246847e+00]\n",
            " [1.14022307e-01 1.69930413e-01 1.80232489e+00 1.22852845e+01\n",
            "  2.24955404e+00 8.41588352e+00 2.16143859e-01 8.32995329e+00]\n",
            " [2.06599900e+00 3.64186867e+00 9.42028145e-01 1.60430716e+00\n",
            "  1.56856606e+00 1.20233866e+00 6.20600523e-02 6.70399176e-01]\n",
            " [2.45202600e+00 4.66260584e-01 2.94634227e-01 9.37373318e-02\n",
            "  7.78101353e+00 3.07293313e+00 4.77865552e-02 7.23886421e-01]\n",
            " [1.28246027e+00 8.85932662e-01 3.67010633e-01 2.35136337e-01\n",
            "  7.12849652e-01 1.63551351e+00 1.40410673e+02 2.95089416e-01]\n",
            " [3.76030918e-01 6.42985276e-01 3.61388063e+01 4.58495428e+00\n",
            "  4.18053202e-01 1.78666443e+00 1.28587988e+00 8.48384470e-01]]\n",
            "[[0.32986541 0.21201011 0.08186927 0.12905386 0.19687885 0.03491906\n",
            "  0.00712021 0.16900725]\n",
            " [0.0738969  0.08245037 0.10126468 0.33379931 0.0241526  0.44213966\n",
            "  0.14469697 0.19983869]\n",
            " [0.03437487 0.26291689 0.24008658 0.00131302 0.02557805 0.07072431\n",
            "  0.07125474 0.06270529]\n",
            " [0.05718184 0.11916283 0.42713952 0.01341898 0.04374369 0.04818367\n",
            "  0.13096238 0.03130017]\n",
            " [0.02330921 0.09876795 0.73629615 0.32002851 0.3070327  0.15878589\n",
            "  0.03398388 0.19069592]\n",
            " [0.13545534 0.40481257 0.28978494 0.05127129 0.01684604 0.0165393\n",
            "  0.0430441  0.69964384]\n",
            " [0.21504689 0.87713554 0.26591245 0.16617406 0.19842887 0.3060508\n",
            "  0.00165286 0.26650337]\n",
            " [0.27474687 0.41227389 0.00286997 0.11066484 0.2731688  0.39888883\n",
            "  0.08396958 0.7086744 ]]\n",
            "[[0.52955594 0.89357152 0.11342645 0.57534293 0.81234762 0.89958393\n",
            "  0.85934612 0.21730153]\n",
            " [0.97805535 0.75385901 0.9798014  0.63269571 0.9848453  0.68069604\n",
            "  0.80038524 0.49355372]\n",
            " [0.72249946 0.47428357 0.97172402 0.99172227 0.83147942 0.97596456\n",
            "  0.9271432  0.97448801]\n",
            " [0.23810511 0.22498237 0.97823951 0.97453399 0.8494877  0.9970772\n",
            "  0.2917936  0.97791041]\n",
            " [0.89465889 0.91474359 0.78720397 0.91730881 0.91425771 0.95541643\n",
            "  0.15693865 0.62415459]\n",
            " [0.91178507 0.45605119 0.29575312 0.19694408 0.96223463 0.92136035\n",
            "  0.05881492 0.70806317]\n",
            " [0.98196752 0.87827808 0.3830032  0.2812946  0.63750155 0.89139693\n",
            "  0.99770563 0.30292583]\n",
            " [0.38909567 0.56658113 0.99399286 0.97344774 0.42829871 0.95115148\n",
            "  0.7512696  0.75002345]]\n"
          ],
          "name": "stdout"
        }
      ]
    },
    {
      "cell_type": "markdown",
      "metadata": {
        "id": "7z9Yd56XwVpS",
        "colab_type": "text"
      },
      "source": [
        "iv.Slicing and iterating of numpy arrays"
      ]
    },
    {
      "cell_type": "markdown",
      "metadata": {
        "id": "AnjYiNXRwmaI",
        "colab_type": "text"
      },
      "source": [
        "slicing"
      ]
    },
    {
      "cell_type": "code",
      "metadata": {
        "id": "iAnLpJgFwtr-",
        "colab_type": "code",
        "colab": {
          "base_uri": "https://localhost:8080/",
          "height": 34
        },
        "outputId": "b85d95f3-0693-4280-8df6-a20f444476d3"
      },
      "source": [
        "import numpy as np\n",
        "arr=np.array([2,3,4,5,6,7])\n",
        "print(arr[1:3])"
      ],
      "execution_count": 8,
      "outputs": [
        {
          "output_type": "stream",
          "text": [
            "[3 4]\n"
          ],
          "name": "stdout"
        }
      ]
    },
    {
      "cell_type": "markdown",
      "metadata": {
        "id": "ZxVEe-cBx4tM",
        "colab_type": "text"
      },
      "source": [
        "Iterating"
      ]
    },
    {
      "cell_type": "code",
      "metadata": {
        "id": "e38F-0oIx62J",
        "colab_type": "code",
        "colab": {
          "base_uri": "https://localhost:8080/",
          "height": 118
        },
        "outputId": "eae6dda6-e225-4cd2-a68c-235abfca3dec"
      },
      "source": [
        "for i in arr:\n",
        " print(i)"
      ],
      "execution_count": 9,
      "outputs": [
        {
          "output_type": "stream",
          "text": [
            "2\n",
            "3\n",
            "4\n",
            "5\n",
            "6\n",
            "7\n"
          ],
          "name": "stdout"
        }
      ]
    },
    {
      "cell_type": "markdown",
      "metadata": {
        "id": "PydxohIOylMu",
        "colab_type": "text"
      },
      "source": [
        "v.Matrix operation on numpy arrays"
      ]
    },
    {
      "cell_type": "code",
      "metadata": {
        "id": "ZVGrgfqjyp8M",
        "colab_type": "code",
        "colab": {
          "base_uri": "https://localhost:8080/",
          "height": 118
        },
        "outputId": "13d21bd4-e423-42b8-e46c-79d46fa9abcf"
      },
      "source": [
        "import numpy as np\n",
        "v=np.array([[2,3],[4,5]])\n",
        "i=np.array([[1,2],[6,7]])\n",
        "print(np.add(v,i))\n",
        "print(np.subtract(v,i))\n",
        "print(np.divide(v,i))"
      ],
      "execution_count": 10,
      "outputs": [
        {
          "output_type": "stream",
          "text": [
            "[[ 3  5]\n",
            " [10 12]]\n",
            "[[ 1  1]\n",
            " [-2 -2]]\n",
            "[[2.         1.5       ]\n",
            " [0.66666667 0.71428571]]\n"
          ],
          "name": "stdout"
        }
      ]
    }
  ]
}