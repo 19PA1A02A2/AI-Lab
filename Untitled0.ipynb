{
  "nbformat": 4,
  "nbformat_minor": 0,
  "metadata": {
    "colab": {
      "name": "Untitled0.ipynb",
      "provenance": [],
      "authorship_tag": "ABX9TyOAY+9DFoM+I2KTyKiw90CD",
      "include_colab_link": true
    },
    "kernelspec": {
      "name": "python3",
      "display_name": "Python 3"
    }
  },
  "cells": [
    {
      "cell_type": "markdown",
      "metadata": {
        "id": "view-in-github",
        "colab_type": "text"
      },
      "source": [
        "<a href=\"https://colab.research.google.com/github/19PA1A02A2/AI-Lab/blob/master/Untitled0.ipynb\" target=\"_parent\"><img src=\"https://colab.research.google.com/assets/colab-badge.svg\" alt=\"Open In Colab\"/></a>"
      ]
    },
    {
      "cell_type": "markdown",
      "metadata": {
        "id": "61kCYaKLVglq",
        "colab_type": "text"
      },
      "source": [
        "EXPERIMENT-1 1.NUMPY i.Different ways to create Numpy arrays"
      ]
    },
    {
      "cell_type": "code",
      "metadata": {
        "id": "GXLoxD23WDvF",
        "colab_type": "code",
        "colab": {
          "base_uri": "https://localhost:8080/",
          "height": 34
        },
        "outputId": "04b66be4-a963-4bfb-cd2f-58f214a7c05b"
      },
      "source": [
        "import numpy as np\n",
        "a = np.array([3,3,3])\n",
        "print (a)"
      ],
      "execution_count": 1,
      "outputs": [
        {
          "output_type": "stream",
          "text": [
            "[3 3 3]\n"
          ],
          "name": "stdout"
        }
      ]
    },
    {
      "cell_type": "code",
      "metadata": {
        "id": "6knPOYplWvfy",
        "colab_type": "code",
        "colab": {
          "base_uri": "https://localhost:8080/",
          "height": 50
        },
        "outputId": "cc711c0c-391a-49e2-bd30-ec45fa4be33e"
      },
      "source": [
        "a = np.array([[2, 2], [3, 3]])\n",
        "print (a)"
      ],
      "execution_count": 2,
      "outputs": [
        {
          "output_type": "stream",
          "text": [
            "[[2 2]\n",
            " [3 3]]\n"
          ],
          "name": "stdout"
        }
      ]
    },
    {
      "cell_type": "markdown",
      "metadata": {
        "id": "FBwTuYUQW5rU",
        "colab_type": "text"
      },
      "source": [
        "ii.Add,remove,modify elements in an array"
      ]
    },
    {
      "cell_type": "code",
      "metadata": {
        "id": "j1eZMIMRW_oE",
        "colab_type": "code",
        "colab": {
          "base_uri": "https://localhost:8080/",
          "height": 34
        },
        "outputId": "b9e54ad2-008d-4e36-e3b6-eb7efa0d29a1"
      },
      "source": [
        "newArray = np.append(a,[33,44,99])\n",
        "print(newArray)"
      ],
      "execution_count": 3,
      "outputs": [
        {
          "output_type": "stream",
          "text": [
            "[ 2  2  3  3 33 44 99]\n"
          ],
          "name": "stdout"
        }
      ]
    },
    {
      "cell_type": "code",
      "metadata": {
        "id": "l3xERVp9XrQ6",
        "colab_type": "code",
        "colab": {
          "base_uri": "https://localhost:8080/",
          "height": 34
        },
        "outputId": "d627a8d7-7312-4baa-af27-24a60f92f97b"
      },
      "source": [
        "import numpy as np\n",
        "l=np.array([2,3,4,5,7])\n",
        "l=np.delete(l,2)\n",
        "print(l)"
      ],
      "execution_count": 4,
      "outputs": [
        {
          "output_type": "stream",
          "text": [
            "[2 3 5 7]\n"
          ],
          "name": "stdout"
        }
      ]
    },
    {
      "cell_type": "code",
      "metadata": {
        "id": "V61fFFekYAD7",
        "colab_type": "code",
        "colab": {
          "base_uri": "https://localhost:8080/",
          "height": 34
        },
        "outputId": "b7f9eaec-edec-4580-b1e8-e321bab38089"
      },
      "source": [
        "b=np.array([5,6,3,1,8,9])\n",
        "b[b<3]=-2\n",
        "print(b)"
      ],
      "execution_count": 5,
      "outputs": [
        {
          "output_type": "stream",
          "text": [
            "[ 5  6  3 -2  8  9]\n"
          ],
          "name": "stdout"
        }
      ]
    },
    {
      "cell_type": "markdown",
      "metadata": {
        "id": "wmdY2ia2YLPh",
        "colab_type": "text"
      },
      "source": [
        "iii.Arthimetic operations on Numpy array"
      ]
    },
    {
      "cell_type": "code",
      "metadata": {
        "id": "iUSn5lPKYSs0",
        "colab_type": "code",
        "colab": {
          "base_uri": "https://localhost:8080/",
          "height": 319
        },
        "outputId": "8cd79f79-c47e-42ce-d7c3-f8b7da59e31d"
      },
      "source": [
        "import numpy as np\n",
        "v=np.random.random((3,3))\n",
        "n=np.random.random((3,3))\n",
        "sum=np.add(v,n)\n",
        "diff=np.subtract(v,n)\n",
        "prod=np.multiply(v,n)\n",
        "quo=np.divide(v,n)\n",
        "mod=np.mod(v,n)\n",
        "pow=np.power(v,n)\n",
        "print(sum)\n",
        "print(diff)\n",
        "print(prod)\n",
        "print(quo)\n",
        "print(mod)\n",
        "print(pow)"
      ],
      "execution_count": 6,
      "outputs": [
        {
          "output_type": "stream",
          "text": [
            "[[0.40747893 1.21642916 0.43293516]\n",
            " [0.46563953 1.40275838 1.1340625 ]\n",
            " [1.53470259 1.69471882 0.86157144]]\n",
            "[[-0.31528149  0.11342628  0.2325695 ]\n",
            " [-0.20035458  0.26371704 -0.76166942]\n",
            " [-0.099791   -0.16645764 -0.17818336]]\n",
            "[[0.01665917 0.3667086  0.03333607]\n",
            " [0.04416955 0.4745461  0.17648936]\n",
            " [0.58633845 0.71109093 0.17763901]]\n",
            "[[0.12756294 1.20566815 3.32145069]\n",
            " [0.39832928 1.46305087 0.19643763]\n",
            " [0.87789367 0.82112643 0.65725889]]\n",
            "[[0.04609872 0.11342628 0.03220384]\n",
            " [0.13264248 0.26371704 0.18619654]\n",
            " [0.71745579 0.76413059 0.34169404]]\n",
            "[[0.32891495 0.79847229 0.89562197]\n",
            " [0.51033564 0.9013143  0.20325018]\n",
            " [0.76234059 0.77853319 0.57220102]]\n"
          ],
          "name": "stdout"
        }
      ]
    },
    {
      "cell_type": "markdown",
      "metadata": {
        "id": "t7vb3OaJZWDQ",
        "colab_type": "text"
      },
      "source": [
        "iv.Slicing and iterating of numpy arrays"
      ]
    },
    {
      "cell_type": "markdown",
      "metadata": {
        "id": "3AJeStYba0T6",
        "colab_type": "text"
      },
      "source": [
        "Slicing"
      ]
    },
    {
      "cell_type": "code",
      "metadata": {
        "id": "Z_yaI-_QZdRJ",
        "colab_type": "code",
        "colab": {
          "base_uri": "https://localhost:8080/",
          "height": 34
        },
        "outputId": "87332fc2-a099-4cce-8547-378b792ac6bb"
      },
      "source": [
        "import numpy as np\n",
        "arr=np.array([3,4,5,7,8,9])\n",
        "print(arr[2:5])"
      ],
      "execution_count": 9,
      "outputs": [
        {
          "output_type": "stream",
          "text": [
            "[5 7 8]\n"
          ],
          "name": "stdout"
        }
      ]
    },
    {
      "cell_type": "markdown",
      "metadata": {
        "id": "4wkA7Xssa_rA",
        "colab_type": "text"
      },
      "source": [
        "Iterating"
      ]
    },
    {
      "cell_type": "code",
      "metadata": {
        "id": "JbPm-y8dbHZW",
        "colab_type": "code",
        "colab": {
          "base_uri": "https://localhost:8080/",
          "height": 118
        },
        "outputId": "4d87418b-98db-496a-f5a2-c63c83d93c78"
      },
      "source": [
        "for i in arr:\n",
        " print(i)"
      ],
      "execution_count": 10,
      "outputs": [
        {
          "output_type": "stream",
          "text": [
            "3\n",
            "4\n",
            "5\n",
            "7\n",
            "8\n",
            "9\n"
          ],
          "name": "stdout"
        }
      ]
    },
    {
      "cell_type": "markdown",
      "metadata": {
        "id": "266wGHs0bT0t",
        "colab_type": "text"
      },
      "source": [
        "v.Matrix operation on numpy arrays.\n"
      ]
    },
    {
      "cell_type": "code",
      "metadata": {
        "id": "GooQFnQCbVTd",
        "colab_type": "code",
        "colab": {
          "base_uri": "https://localhost:8080/",
          "height": 118
        },
        "outputId": "bb28a43b-ad06-4663-fbb1-fad2f069c20e"
      },
      "source": [
        "import numpy as np\n",
        "v=np.array([[1,9],[5,3]])\n",
        "i=np.array([[3,13],[2,10]])\n",
        "print(np.add(v,i))\n",
        "print(np.subtract(v,i))\n",
        "print(np.divide(v,i))"
      ],
      "execution_count": 11,
      "outputs": [
        {
          "output_type": "stream",
          "text": [
            "[[ 4 22]\n",
            " [ 7 13]]\n",
            "[[-2 -4]\n",
            " [ 3 -7]]\n",
            "[[0.33333333 0.69230769]\n",
            " [2.5        0.3       ]]\n"
          ],
          "name": "stdout"
        }
      ]
    }
  ]
}